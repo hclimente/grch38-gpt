{
 "cells": [
  {
   "cell_type": "code",
   "execution_count": 1,
   "id": "b2b1321a-a8e5-4de0-9edf-b5a9dd517521",
   "metadata": {},
   "outputs": [],
   "source": [
    "import torch\n",
    "\n",
    "from utils import tokenize, get_batch\n",
    "\n",
    "data, encoder, decoder = tokenize(\"data/uniprot.fasta\")\n",
    "n = int(len(data)*0.9)\n",
    "train_data = data[:n]\n",
    "test_data = data[n:]"
   ]
  },
  {
   "cell_type": "code",
   "execution_count": 2,
   "id": "1fdac004-c56f-440a-9474-155d39c79f4d",
   "metadata": {},
   "outputs": [
    {
     "data": {
      "text/plain": [
       "(tensor([[42, 29, 34, 42, 33, 40, 44, 34],\n",
       "         [38, 34, 42, 33, 33, 36, 29, 23],\n",
       "         [47, 39, 34, 29, 38, 29, 38, 29],\n",
       "         [42, 44, 44, 38, 27, 33, 36, 38],\n",
       "         [34, 25, 23, 23, 40, 34, 42,  0],\n",
       "         [39, 26, 41, 42, 44, 36, 34, 39],\n",
       "         [34, 41, 39, 41, 34, 34, 34, 26],\n",
       "         [40, 34, 34, 23, 40, 41, 40, 38],\n",
       "         [11, 11,  1, 38, 27, 21, 11,  1],\n",
       "         [28, 38, 41, 28, 41, 27, 28, 41],\n",
       "         [42, 23, 23, 45, 41, 34, 40, 36],\n",
       "         [29, 33, 28, 31, 25, 41, 40, 25]]),\n",
       " tensor([[29, 34, 42, 33, 40, 44, 34, 39],\n",
       "         [34, 42, 33, 33, 36, 29, 23, 47],\n",
       "         [39, 34, 29, 38, 29, 38, 29, 38],\n",
       "         [44, 44, 38, 27, 33, 36, 38, 38],\n",
       "         [25, 23, 23, 40, 34, 42,  0, 26],\n",
       "         [26, 41, 42, 44, 36, 34, 39, 41],\n",
       "         [41, 39, 41, 34, 34, 34, 26, 31],\n",
       "         [34, 34, 23, 40, 41, 40, 38, 34],\n",
       "         [11,  1, 38, 27, 21, 11,  1, 41],\n",
       "         [38, 41, 28, 41, 27, 28, 41, 36],\n",
       "         [23, 23, 45, 41, 34, 40, 36, 38],\n",
       "         [33, 28, 31, 25, 41, 40, 25,  0]]))"
      ]
     },
     "execution_count": 2,
     "metadata": {},
     "output_type": "execute_result"
    }
   ],
   "source": [
    "torch.manual_seed(42)\n",
    "block_size = 8\n",
    "batch_size = 12\n",
    "\n",
    "get_batch(train_data, block_size, batch_size)"
   ]
  }
 ],
 "metadata": {
  "kernelspec": {
   "display_name": "Python 3 (ipykernel)",
   "language": "python",
   "name": "python3"
  },
  "language_info": {
   "codemirror_mode": {
    "name": "ipython",
    "version": 3
   },
   "file_extension": ".py",
   "mimetype": "text/x-python",
   "name": "python",
   "nbconvert_exporter": "python",
   "pygments_lexer": "ipython3",
   "version": "3.9.16"
  }
 },
 "nbformat": 4,
 "nbformat_minor": 5
}
